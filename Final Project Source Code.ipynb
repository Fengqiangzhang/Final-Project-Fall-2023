{
 "cells": [
  {
   "cell_type": "markdown",
   "id": "d4c5a136-e872-4846-9965-9ddc5251a0b3",
   "metadata": {},
   "source": [
    "# NYC Apartment Search\n",
    "\n",
    "_[Project prompt](https://docs.google.com/document/d/1BYVyFBDcTywdUlanH0ysfOrNWPgl7UkqXA7NeewTzxA/edit#heading=h.bpxu7uvknnbk)_\n",
    "\n",
    "_This scaffolding notebook may be used to help setup your final project. It's **totally optional** whether you make use of this or not._\n",
    "\n",
    "_If you do use this notebook, everything provided is optional as well - you may remove or add code as you wish._\n",
    "\n",
    "_**All code below should be consider \"pseudo-code\" - not functional by itself, and only an idea of a possible approach.**_"
   ]
  },
  {
   "cell_type": "markdown",
   "id": "bdf11fa0-4684-4f5e-8048-0f4cc5f4f243",
   "metadata": {},
   "source": [
    "## Setup"
   ]
  },
  {
   "cell_type": "code",
   "execution_count": null,
   "id": "0f675d4b-794e-407c-aac9-b85c4a3975d2",
   "metadata": {},
   "outputs": [],
   "source": [
    "# All import statements needed for the project, for example:\n",
    "\n",
    "import json\n",
    "import pathlib\n",
    "import urllib.parse\n",
    "\n",
    "import geoalchemy2 as gdb\n",
    "import geopandas as gpd\n",
    "import matplotlib.pyplot as plt\n",
    "import pandas as pd\n",
    "import requests\n",
    "import shapely\n",
    "import sqlalchemy as db\n",
    "\n",
    "from sqlalchemy.orm import declarative_base\n",
    "\n",
    "!pip install dbfread\n",
    "\n"
   ]
  },
  {
   "cell_type": "code",
   "execution_count": null,
   "id": "70a62277-51cf-48a2-81d2-9b2127088a7e",
   "metadata": {},
   "outputs": [],
   "source": [
    "# Any constants you might need; some have been added for you\n",
    "\n",
    "# Where data files will be read from/written to - this should already exist\n",
    "DATA_DIR = pathlib.Path(\"data\")\n",
    "ZIPCODE_DATA_FILE = DATA_DIR / \"zipcodes\" / \"ZIP_CODE_040114.shp\"\n",
    "ZILLOW_DATA_FILE = DATA_DIR / \"zillow_rent_data.csv\"\n",
    "\n",
    "NYC_DATA_APP_TOKEN = \"FILL_ME_IN\"\n",
    "BASE_NYC_DATA_URL = \"https://data.cityofnewyork.us/\"\n",
    "NYC_DATA_311 = \"erm2-nwe9.geojson\"\n",
    "NYC_DATA_TREES = \"5rq2-4hqu.geojson\"\n",
    "\n",
    "DB_NAME = \"FILL_ME_IN\"\n",
    "DB_USER = \"FILL_ME_IN\"\n",
    "DB_URL = f\"postgres+psycopg2://{DB_USER}@localhost/{DB_NAME}\"\n",
    "DB_SCHEMA_FILE = \"schema.sql\"\n",
    "# directory where DB queries for Part 3 will be saved\n",
    "QUERY_DIR = pathlib.Path(\"queries\")"
   ]
  },
  {
   "cell_type": "code",
   "execution_count": null,
   "id": "cd67cca9-ec72-44e3-83b8-b65f1ed5bb2f",
   "metadata": {},
   "outputs": [],
   "source": [
    "# Make sure the QUERY_DIRECTORY exists\n",
    "if not QUERY_DIR.exists():\n",
    "    QUERY_DIR.mkdir()"
   ]
  },
  {
   "cell_type": "markdown",
   "id": "52476a07-9bf2-4b7a-8cb7-93648bb4d303",
   "metadata": {},
   "source": [
    "## Part 1: Data Preprocessing"
   ]
  },
  {
   "cell_type": "code",
   "execution_count": null,
   "id": "63b18f12-c0ce-4b9c-adc1-805703edc575",
   "metadata": {},
   "outputs": [],
   "source": [
    "def download_nyc_geojson_data(url, force=False):\n",
    "    parsed_url = urllib.parse.urlparse(url)\n",
    "    url_path = parsed_url.path.strip(\"/\")\n",
    "    \n",
    "    filename = DATA_DIR / url_path\n",
    "    \n",
    "    if force or not filename.exists():\n",
    "        print(f\"Downloading {url} to {filename}...\")\n",
    "        \n",
    "        ...\n",
    "        \n",
    "        with open(filename, \"w\") as f:\n",
    "            json.dump(..., f)\n",
    "        print(f\"Done downloading {url}.\")\n",
    "\n",
    "    else:\n",
    "        print(f\"Reading from {filename}...\")\n",
    "\n",
    "    return filename"
   ]
  },
  {
   "cell_type": "code",
   "execution_count": 1,
   "id": "ee245240-2fbb-45b8-9a92-4e2368f62c60",
   "metadata": {},
   "outputs": [
    {
     "name": "stdout",
     "output_type": "stream",
     "text": [
      "DataFrame 1 \n",
      "    ZIPCODE BLDGZIP        PO_NAME  POPULATION          AREA STATE    COUNTY  \\\n",
      "0     11436       0        Jamaica     18681.0  2.269930e+07    NY    Queens   \n",
      "1     11213       0       Brooklyn     62426.0  2.963100e+07    NY     Kings   \n",
      "2     11212       0       Brooklyn     83866.0  4.197210e+07    NY     Kings   \n",
      "3     11225       0       Brooklyn     56527.0  2.369863e+07    NY     Kings   \n",
      "4     11218       0       Brooklyn     72280.0  3.686880e+07    NY     Kings   \n",
      "..      ...     ...            ...         ...           ...   ...       ...   \n",
      "258   10310       0  Staten Island     25003.0  5.346328e+07    NY  Richmond   \n",
      "259   11693       0   Far Rockaway     11052.0  3.497516e+06    NY     Kings   \n",
      "260   11249       0       Brooklyn     28481.0  1.777221e+07    NY     Kings   \n",
      "261   10162       1       New York         0.0  2.103489e+04    NY  New York   \n",
      "262   10119       1       New York         0.0  1.263930e+05    NY  New York   \n",
      "\n",
      "    ST_FIPS CTY_FIPS  \n",
      "0        36      081  \n",
      "1        36      047  \n",
      "2        36      047  \n",
      "3        36      047  \n",
      "4        36      047  \n",
      "..      ...      ...  \n",
      "258      36      085  \n",
      "259      36      047  \n",
      "260      36      047  \n",
      "261      36      061  \n",
      "262      36      061  \n",
      "\n",
      "[263 rows x 9 columns]\n",
      "DataFrame 5 \n",
      "    ZIPCODE BLDGZIP        PO_NAME  POPULATION          AREA STATE    COUNTY  \\\n",
      "0     11436       0        Jamaica     18681.0  2.269930e+07    NY    Queens   \n",
      "1     11213       0       Brooklyn     62426.0  2.963100e+07    NY     Kings   \n",
      "2     11212       0       Brooklyn     83866.0  4.197210e+07    NY     Kings   \n",
      "3     11225       0       Brooklyn     56527.0  2.369863e+07    NY     Kings   \n",
      "4     11218       0       Brooklyn     72280.0  3.686880e+07    NY     Kings   \n",
      "..      ...     ...            ...         ...           ...   ...       ...   \n",
      "258   10310       0  Staten Island     25003.0  5.346328e+07    NY  Richmond   \n",
      "259   11693       0   Far Rockaway     11052.0  3.497516e+06    NY     Kings   \n",
      "260   11249       0       Brooklyn     28481.0  1.777221e+07    NY     Kings   \n",
      "261   10162       1       New York         0.0  2.103489e+04    NY  New York   \n",
      "262   10119       1       New York         0.0  1.263930e+05    NY  New York   \n",
      "\n",
      "    ST_FIPS CTY_FIPS                                           geometry  \n",
      "0        36      081  POLYGON ((1038098.252 188138.380, 1038141.936 ...  \n",
      "1        36      047  POLYGON ((1001613.713 186926.440, 1002314.243 ...  \n",
      "2        36      047  POLYGON ((1011174.276 183696.338, 1011373.584 ...  \n",
      "3        36      047  POLYGON ((995908.365 183617.613, 996522.848 18...  \n",
      "4        36      047  POLYGON ((991997.113 176307.496, 992042.798 17...  \n",
      "..      ...      ...                                                ...  \n",
      "258      36      085  POLYGON ((950767.507 172848.969, 950787.510 17...  \n",
      "259      36      047  POLYGON ((1028453.995 167153.410, 1027813.010 ...  \n",
      "260      36      047  POLYGON ((995877.318 203206.075, 995968.511 20...  \n",
      "261      36      061  POLYGON ((997731.761 219560.922, 997641.948 21...  \n",
      "262      36      061  POLYGON ((986038.661 213051.063, 986135.314 21...  \n",
      "\n",
      "[263 rows x 10 columns]\n",
      "DataFrame 7 \n",
      "    ZIPCODE BLDGZIP        PO_NAME  POPULATION          AREA STATE    COUNTY  \\\n",
      "0     11436       0        Jamaica     18681.0  2.269930e+07    NY    Queens   \n",
      "1     11213       0       Brooklyn     62426.0  2.963100e+07    NY     Kings   \n",
      "2     11212       0       Brooklyn     83866.0  4.197210e+07    NY     Kings   \n",
      "3     11225       0       Brooklyn     56527.0  2.369863e+07    NY     Kings   \n",
      "4     11218       0       Brooklyn     72280.0  3.686880e+07    NY     Kings   \n",
      "..      ...     ...            ...         ...           ...   ...       ...   \n",
      "258   10310       0  Staten Island     25003.0  5.346328e+07    NY  Richmond   \n",
      "259   11693       0   Far Rockaway     11052.0  3.497516e+06    NY     Kings   \n",
      "260   11249       0       Brooklyn     28481.0  1.777221e+07    NY     Kings   \n",
      "261   10162       1       New York         0.0  2.103489e+04    NY  New York   \n",
      "262   10119       1       New York         0.0  1.263930e+05    NY  New York   \n",
      "\n",
      "    ST_FIPS CTY_FIPS                                           geometry  \n",
      "0        36      081  POLYGON ((1038098.252 188138.380, 1038141.936 ...  \n",
      "1        36      047  POLYGON ((1001613.713 186926.440, 1002314.243 ...  \n",
      "2        36      047  POLYGON ((1011174.276 183696.338, 1011373.584 ...  \n",
      "3        36      047  POLYGON ((995908.365 183617.613, 996522.848 18...  \n",
      "4        36      047  POLYGON ((991997.113 176307.496, 992042.798 17...  \n",
      "..      ...      ...                                                ...  \n",
      "258      36      085  POLYGON ((950767.507 172848.969, 950787.510 17...  \n",
      "259      36      047  POLYGON ((1028453.995 167153.410, 1027813.010 ...  \n",
      "260      36      047  POLYGON ((995877.318 203206.075, 995968.511 20...  \n",
      "261      36      061  POLYGON ((997731.761 219560.922, 997641.948 21...  \n",
      "262      36      061  POLYGON ((986038.661 213051.063, 986135.314 21...  \n",
      "\n",
      "[263 rows x 10 columns]\n"
     ]
    }
   ],
   "source": [
    "def load_and_clean_zipcodes(zipcode_datafile):\n",
    "    import pandas as pd\n",
    "    import geopandas as gpd\n",
    "    from dbfread import DBF\n",
    "    import xml.etree.ElementTree as ET\n",
<<<<<<< Updated upstream
    "    zipcodes_data_path_1 = '/Users/jojoamelboi/Desktop/GITHUB/Untitled/data/drive-download-20231203T171520Z-001/nyc_zipcodes.dbf'\n",
    "    zipcodes_data_path_2 = '/Users/jojoamelboi/Desktop/GITHUB/Untitled/data/drive-download-20231203T171520Z-001/nyc_zipcodes.prj'\n",
    "    zipcodes_data_path_3 = '/Users/jojoamelboi/Desktop/GITHUB/Untitled/data/drive-download-20231203T171520Z-001/nyc_zipcodes.sbn'\n",
    "    zipcodes_data_path_4 = '/Users/jojoamelboi/Desktop/GITHUB/Untitled/data/drive-download-20231203T171520Z-001/nyc_zipcodes.sbx'\n",
    "    zipcodes_data_path_5 = '/Users/jojoamelboi/Desktop/GITHUB/Untitled/data/drive-download-20231203T171520Z-001/nyc_zipcodes.shp'\n",
    "    zipcodes_data_path_6 = '/Users/jojoamelboi/Desktop/GITHUB/Untitled/data/drive-download-20231203T171520Z-001/nyc_zipcodes.shp.xml'\n",
    "    zipcodes_data_path_7 = '/Users/jojoamelboi/Desktop/GITHUB/Untitled/data/drive-download-20231203T171520Z-001/nyc_zipcodes.shx'\n",
    "    \n",
    "#     first doc\n",
    "    table = DBF(zipcodes_data_path_1)\n",
    "    zipcodes_df_1 =pd.DataFrame(iter(table))\n",
    "#     second doc\n",
    "    zipcodes_df_2 = gpd.read_file(zipcodes_data_path_2)\n",
    "    print (zipcodes_df_2)\n",
    "#     third doc\n",
    "    zipcodes_df_3 = gpd.read_file(zipcodes_data_path_3)\n",
    "#     forth doc\n",
    "    zipcodes_df_4 = gpd.read_file(zipcodes_data_path_4)\n",
    "#     fifth doc\n",
    "    zipcodes_df_5 = gpd.read_file(zipcodes_data_path_5)\n",
    "#     sixth doc\n",
    "    tree = ET.parse(zipcodes_data_path_6)\n",
    "    root = tree.getroot()\n",
    "    "
   ]
  },
  {
   "cell_type": "code",
   "execution_count": null,
   "id": "eed2a5a9-1027-4c41-bbb5-039c32ce7e9b",
   "metadata": {},
   "outputs": [],
   "source": [
    "def download_and_clean_311_data():\n",
    "    raise NotImplementedError()"
=======
    "\n",
    "    # Pass file path using parameters\n",
    "    zipcodes_data_path_1 = zipcode_datafile['dbf']\n",
    "    zipcodes_data_path_2 = zipcode_datafile['prj'] # unnecessary to read\n",
    "    zipcodes_data_path_3 = zipcode_datafile['sbn'] # unnecessary to read\n",
    "    zipcodes_data_path_4 = zipcode_datafile['sbx'] # unnecessary to read\n",
    "    zipcodes_data_path_5 = zipcode_datafile['shp']\n",
    "    zipcodes_data_path_6 = zipcode_datafile['shp.xml'] # unnecessary to read\n",
    "    zipcodes_data_path_7 = zipcode_datafile['shx']\n",
    "\n",
    "    # 1st doc\n",
    "    table = DBF(zipcodes_data_path_1)\n",
    "    zipcodes_df_1 = pd.DataFrame(iter(table))\n",
    "    zipcodes_df_1.drop(columns=['URL'], inplace=True)\n",
    "    zipcodes_df_1.drop(columns=['SHAPE_AREA'], inplace=True)\n",
    "    zipcodes_df_1.drop(columns=['SHAPE_LEN'], inplace=True)\n",
    "    print(\"DataFrame 1 \")\n",
    "    print(zipcodes_df_1)\n",
    "\n",
    "    # 5th doc\n",
    "    zipcodes_df_5 = gpd.read_file(zipcodes_data_path_5)\n",
    "    zipcodes_df_5.drop(columns=['URL'], inplace=True)\n",
    "    zipcodes_df_5.drop(columns=['SHAPE_AREA'], inplace=True)\n",
    "    zipcodes_df_5.drop(columns=['SHAPE_LEN'], inplace=True)\n",
    "    print(\"DataFrame 5 \")\n",
    "    print(zipcodes_df_5)\n",
    "    \n",
    "    # 7th doc\n",
    "    zipcodes_df_7 = gpd.read_file(zipcodes_data_path_7)\n",
    "    zipcodes_df_7.drop(columns=['URL'], inplace=True)\n",
    "    zipcodes_df_7.drop(columns=['SHAPE_AREA'], inplace=True)\n",
    "    zipcodes_df_7.drop(columns=['SHAPE_LEN'], inplace=True)\n",
    "    print(\"DataFrame 7 \")\n",
    "    print(zipcodes_df_5)\n",
    "\n",
    "\n",
    "zipcode_datafile_paths = {\n",
    "    'dbf': '/Users/jojoamelboi/Desktop/GITHUB/Untitled/data/drive-download-20231203T171520Z-001/nyc_zipcodes.dbf',\n",
    "    'prj': '/Users/jojoamelboi/Desktop/GITHUB/Untitled/data/drive-download-20231203T171520Z-001/nyc_zipcodes.prj',\n",
    "    'sbn': '/Users/jojoamelboi/Desktop/GITHUB/Untitled/data/drive-download-20231203T171520Z-001/nyc_zipcodes.sbn',\n",
    "    'sbx': '/Users/jojoamelboi/Desktop/GITHUB/Untitled/data/drive-download-20231203T171520Z-001/nyc_zipcodes.sbx',\n",
    "    'shp': '/Users/jojoamelboi/Desktop/GITHUB/Untitled/data/drive-download-20231203T171520Z-001/nyc_zipcodes.shp',\n",
    "    'shp.xml': '/Users/jojoamelboi/Desktop/GITHUB/Untitled/data/drive-download-20231203T171520Z-001/nyc_zipcodes.shp.xml',\n",
    "    'shx': '/Users/jojoamelboi/Desktop/GITHUB/Untitled/data/drive-download-20231203T171520Z-001/nyc_zipcodes.shx',\n",
    "}\n",
    "\n",
    "load_and_clean_zipcodes(zipcode_datafile_paths)\n"
>>>>>>> Stashed changes
   ]
  },
  {
   "cell_type": "code",
   "execution_count": null,
   "id": "39c4b1bc-c841-4b87-8301-1dc2cafeccc7",
   "metadata": {},
   "outputs": [],
   "source": [
    "def download_and_clean_tree_data():\n",
    "    raise NotImplementedError()"
   ]
  },
  {
   "cell_type": "code",
<<<<<<< Updated upstream
   "execution_count": null,
=======
   "execution_count": 2,
>>>>>>> Stashed changes
   "id": "747ff49f-a18b-4fc0-8da6-6834a10d11ce",
   "metadata": {},
   "outputs": [
    {
     "name": "stdout",
     "output_type": "stream",
     "text": [
      "      RegionID  SizeRank  RegionName RegionType StateName State      City  \\\n",
      "4        62093         7       11385        zip        NY    NY  New York   \n",
      "6        62019         9       11208        zip        NY    NY  New York   \n",
      "12       62046        16       11236        zip        NY    NY  New York   \n",
      "13       61807        17       10467        zip        NY    NY  New York   \n",
      "14       62085        18       11373        zip        NY    NY  New York   \n",
      "...        ...       ...         ...        ...       ...   ...       ...   \n",
      "6550     61773     12178       10282        zip        NY    NY  New York   \n",
      "6561     62010     12258       11109        zip        NY    NY  New York   \n",
      "6644     61620     14713       10006        zip        NY    NY  New York   \n",
      "6695     61723     19213       10162        zip        NY    NY  New York   \n",
      "6721     61618     30490       10004        zip        NY    NY  New York   \n",
      "\n",
      "                                      Metro       CountyName   2018-03-31  \\\n",
      "4     New York-Newark-Jersey City, NY-NJ-PA    Queens County  2311.390228   \n",
      "6     New York-Newark-Jersey City, NY-NJ-PA     Kings County          NaN   \n",
      "12    New York-Newark-Jersey City, NY-NJ-PA     Kings County          NaN   \n",
      "13    New York-Newark-Jersey City, NY-NJ-PA     Bronx County  1669.629069   \n",
      "14    New York-Newark-Jersey City, NY-NJ-PA    Queens County          NaN   \n",
      "...                                     ...              ...          ...   \n",
      "6550  New York-Newark-Jersey City, NY-NJ-PA  New York County          NaN   \n",
      "6561  New York-Newark-Jersey City, NY-NJ-PA    Queens County  3006.619934   \n",
      "6644  New York-Newark-Jersey City, NY-NJ-PA  New York County          NaN   \n",
      "6695  New York-Newark-Jersey City, NY-NJ-PA  New York County          NaN   \n",
      "6721  New York-Newark-Jersey City, NY-NJ-PA  New York County  3292.870773   \n",
      "\n",
      "      ...   2022-12-31   2023-01-31   2023-02-28   2023-03-31   2023-04-30  \\\n",
      "4     ...  2935.808220  2895.699421  2873.209025  2881.906361  2913.546218   \n",
      "6     ...  2508.670432  2588.030194  2613.790654  2585.561351  2633.200754   \n",
      "12    ...          NaN          NaN          NaN          NaN          NaN   \n",
      "13    ...  2145.642295  2155.617718  2172.346611  2160.962748  2110.533203   \n",
      "14    ...  2199.459063  2255.604528  2262.101623  2271.514956  2250.182334   \n",
      "...   ...          ...          ...          ...          ...          ...   \n",
      "6550  ...  7058.613416  7143.347680  7408.940270  7459.080381  7512.509440   \n",
      "6561  ...  4247.334177  4159.759749  4157.528579  4201.199144  4294.386817   \n",
      "6644  ...  3936.629997  3747.416799  3693.121513  3812.835588  3920.619972   \n",
      "6695  ...          NaN          NaN          NaN          NaN          NaN   \n",
      "6721  ...  4006.972903  4000.923287  4002.584212  4085.513015  4224.569373   \n",
      "\n",
      "       2023-05-31   2023-06-30   2023-07-31   2023-08-31   2023-09-30  \n",
      "4     2963.964134  3005.735342  3034.413822  3064.476503  3079.585783  \n",
      "6     2672.038493  2806.918757  2765.224364  2737.547470  2728.733333  \n",
      "12            NaN          NaN          NaN  2285.460026  2362.500000  \n",
      "13    2180.323655  2276.372290  2334.204728  2353.686402  2423.888889  \n",
      "14    2231.959479  2257.413993  2247.592851  2302.557354  2292.994444  \n",
      "...           ...          ...          ...          ...          ...  \n",
      "6550  7452.333390  7572.806191  7611.834625  7444.236260  7347.458333  \n",
      "6561  4343.065214  4357.893069  4445.207586  4490.367074  4529.358974  \n",
      "6644  4025.134283  4043.838704  4035.676503  4042.831474  4060.096154  \n",
      "6695  4871.181752  5007.415824          NaN  4984.693932  5011.666667  \n",
      "6721  4240.040733  4286.776061  4270.158740  4353.055657  4355.328283  \n",
      "\n",
      "[145 rows x 76 columns]\n"
     ]
    }
   ],
   "source": [
    "def load_and_clean_zillow_data():\n",
    "    import pandas as pd\n",
    "    import geopandas as gpd\n",
    "    from shapely.geometry import Point\n",
    "\n",
    "    # 1. Load the data\n",
    "    zillow_data_path = '/Users/jojoamelboi/Desktop/GITHUB/Untitled/data/zillow_rent_data.csv'\n",
    "\n",
    "    # Use pandas to load the CSV file\n",
    "    zillow_df = pd.read_csv(zillow_data_path)\n",
    "    \n",
    "    # 2. Keep rows with specific cell values\n",
    "    desired_value = 'New York'\n",
    "    filtered_df = zillow_df[zillow_df['City'] == desired_value]\n",
    "    \n",
    "    # 3. Specify columns to remove\n",
    "    columns_to_remove = filtered_df.columns[10:47]\n",
    "    # Use the drop function to remove the specified columns\n",
    "    df_cleaned = filtered_df.drop('2015-01-31', axis=1)\n",
    "    for date in columns_to_remove:\n",
    "        df_cleaned = df_cleaned.drop(date, axis=1)\n",
    "    # 4. Print the processed dataset\n",
    "    print(df_cleaned)\n",
    "\n",
    "# Call the function to execute loading and cleaning\n",
    "load_and_clean_zillow_data()\n"
   ]
  },
  {
   "cell_type": "code",
   "execution_count": null,
   "id": "345ebc2c-14f1-490c-9857-11f1e332e3bc",
   "metadata": {},
   "outputs": [],
   "source": [
    "def load_all_data():\n",
    "    geodf_zipcode_data = load_and_clean_zipcodes(ZIPCODE_DATA_FILE)\n",
    "    geodf_311_data = download_and_clean_311_data()\n",
    "    geodf_tree_data = download_and_clean_tree_data()\n",
    "    df_zillow_data = load_and_clean_zillow_data()\n",
    "    return (\n",
    "        geodf_zipcode_data,\n",
    "        geodf_311_data,\n",
    "        geodf_tree_data,\n",
    "        df_zillow_data\n",
    "    )"
   ]
  },
  {
   "cell_type": "code",
   "execution_count": null,
   "id": "f2768bc8-4130-4298-be28-13d4b250a666",
   "metadata": {},
   "outputs": [],
   "source": [
    "geodf_zipcode_data, geodf_311_data, geodf_tree_data, df_zillow_data = load_all_data()"
   ]
  },
  {
   "cell_type": "code",
   "execution_count": null,
   "id": "23ad8bbc-bf91-457e-97db-a945fabeee29",
   "metadata": {},
   "outputs": [],
   "source": [
    "# Show basic info about each dataframe\n",
    "geodf_zipcode_data.info()"
   ]
  },
  {
   "cell_type": "code",
   "execution_count": null,
   "id": "ec68f4be-f365-46c1-91a1-ab75deb75ff4",
   "metadata": {},
   "outputs": [],
   "source": [
    "# Show first 5 entries about each dataframe\n",
    "geodf_zipcode_data.head()"
   ]
  },
  {
   "cell_type": "code",
   "execution_count": null,
   "id": "6a803b68-2f07-44b8-8b24-d4f16c9e03fe",
   "metadata": {},
   "outputs": [],
   "source": [
    "geodf_311_data.info()"
   ]
  },
  {
   "cell_type": "code",
   "execution_count": null,
   "id": "14705df9-ea77-4d57-ac8e-1845f80a216d",
   "metadata": {},
   "outputs": [],
   "source": [
    "geodf_311_data.head()"
   ]
  },
  {
   "cell_type": "code",
   "execution_count": null,
   "id": "e6006cd2-3a00-4660-8d2a-a660b9bfd91e",
   "metadata": {},
   "outputs": [],
   "source": [
    "geodf_tree_data.info()"
   ]
  },
  {
   "cell_type": "code",
   "execution_count": null,
   "id": "07f880ef-c5fc-4159-8174-21ccd44f492d",
   "metadata": {},
   "outputs": [],
   "source": [
    "geodf_tree_data.head()"
   ]
  },
  {
   "cell_type": "code",
   "execution_count": null,
   "id": "59724f74-5f1e-435c-b843-f381a875dd4a",
   "metadata": {},
   "outputs": [],
   "source": [
    "df_zillow_data.info()"
   ]
  },
  {
   "cell_type": "code",
   "execution_count": null,
   "id": "e29ae5d9-9768-4590-a2f2-dd63b07dd712",
   "metadata": {},
   "outputs": [],
   "source": [
    "df_zillow_data.head()"
   ]
  },
  {
   "cell_type": "markdown",
   "id": "e685942c-26dc-40db-84c2-a71aa3340806",
   "metadata": {},
   "source": [
    "## Part 2: Storing Data"
   ]
  },
  {
   "cell_type": "code",
   "execution_count": null,
   "id": "f349fbdd-67d0-40a4-97a0-d9b8c8ec8013",
   "metadata": {},
   "outputs": [],
   "source": [
    "def setup_new_postgis_database(username, db_name):\n",
    "    raise NotImplementedError()"
   ]
  },
  {
   "cell_type": "code",
   "execution_count": null,
   "id": "590ed80d-7b60-484f-a123-23b673b0f440",
   "metadata": {},
   "outputs": [],
   "source": [
    "setup_new_postgis_database(DB_USER, DB_NAME)"
   ]
  },
  {
   "cell_type": "markdown",
   "id": "527a251c-f337-4b24-bb41-96ee4621a9bd",
   "metadata": {},
   "source": [
    "### Creating Tables\n",
    "\n",
    "\n",
    "These are just a couple of options to creating your tables; you can use one or the other, a different method, or a combination."
   ]
  },
  {
   "cell_type": "code",
   "execution_count": null,
   "id": "e3d72390-3c2d-4856-82c0-3284e8ccb24e",
   "metadata": {},
   "outputs": [],
   "source": [
    "engine = db.create_engine(DB_URL)"
   ]
  },
  {
   "cell_type": "markdown",
   "id": "2ac07405-dc2b-47af-9dad-6a9b94d2b34c",
   "metadata": {},
   "source": [
    "#### Option 1: SQL"
   ]
  },
  {
   "cell_type": "code",
   "execution_count": null,
   "id": "490d0cc6-74b3-4d35-a454-57f647c9f8e3",
   "metadata": {},
   "outputs": [],
   "source": [
    "# if using SQL (as opposed to SQLAlchemy), define the SQL statements to create your 4 tables\n",
    "ZIPCODE_SCHEMA = \"\"\"\n",
    "TODO\n",
    "\"\"\"\n",
    "\n",
    "NYC_311_SCHEMA = \"\"\"\n",
    "TODO\n",
    "\"\"\"\n",
    "\n",
    "NYC_TREE_SCHEMA = \"\"\"\n",
    "TODO\n",
    "\"\"\"\n",
    "\n",
    "ZILLOW_SCHEMA = \"\"\"\n",
    "TODO\n",
    "\"\"\""
   ]
  },
  {
   "cell_type": "code",
   "execution_count": null,
   "id": "f36d86f6-ff6e-4bb8-8fa2-df0d4282e959",
   "metadata": {},
   "outputs": [],
   "source": [
    "# create that required schema.sql file\n",
    "with open(DB_SCHEMA_FILE, \"w\") as f:\n",
    "    f.write(ZIPCODE_SCHEMA)\n",
    "    f.write(NYC_311_SCHEMA)\n",
    "    f.write(NYC_TREE_SCHEMA)\n",
    "    f.write(ZILLOW_SCHEMA)"
   ]
  },
  {
   "cell_type": "code",
   "execution_count": null,
   "id": "48eacd37-4fd7-4768-b689-88b07d5c234e",
   "metadata": {},
   "outputs": [],
   "source": [
    "# If using SQL (as opposed to SQLAlchemy), execute the schema files to create tables\n",
    "with engine.connect() as connection:\n",
    "    pass"
   ]
  },
  {
   "cell_type": "markdown",
   "id": "232a2d89-b276-4d44-a0ef-3631eb686e84",
   "metadata": {},
   "source": [
    "#### Option 2: SQLAlchemy"
   ]
  },
  {
   "cell_type": "code",
   "execution_count": null,
   "id": "d41c42e1-4ad4-4c43-a2ba-1dbcac1de557",
   "metadata": {},
   "outputs": [],
   "source": [
    "Base = declarative_base()\n",
    "\n",
    "class Tree(Base):\n",
    "    __tablename__ = \"trees\"\n",
    "\n",
    "    ...\n"
   ]
  },
  {
   "cell_type": "code",
   "execution_count": null,
   "id": "5b3a9c3d-e6d6-4e01-8247-e9d465381ce6",
   "metadata": {},
   "outputs": [],
   "source": [
    "Base.metadata.create_all(engine)"
   ]
  },
  {
   "cell_type": "markdown",
   "id": "2e88a50c-9528-4a5c-9a52-b96781ee8985",
   "metadata": {},
   "source": [
    "### Add Data to Database\n",
    "\n",
    "These are just a couple of options to write data to your tables; you can use one or the other, a different method, or a combination."
   ]
  },
  {
   "cell_type": "markdown",
   "id": "0c66af67-afb8-4f0d-bb57-552972f8e4b8",
   "metadata": {},
   "source": [
    "#### Option 1: SQL"
   ]
  },
  {
   "cell_type": "code",
   "execution_count": null,
   "id": "69e37800-cd95-44b5-9c21-eb7ac2b2e4ec",
   "metadata": {},
   "outputs": [],
   "source": [
    "def write_dataframes_to_table(tablename_to_dataframe):\n",
    "    # write INSERT statements or use pandas/geopandas to write SQL\n",
    "    raise NotImplemented()"
   ]
  },
  {
   "cell_type": "code",
   "execution_count": null,
   "id": "d1f042f5-8270-477d-929a-872f7d9a0bc8",
   "metadata": {},
   "outputs": [],
   "source": [
    "tablename_to_dataframe = {\n",
    "    \"zipcodes\": geodf_zipcode_data,\n",
    "    \"complaints\": geodf_311_data,\n",
    "    \"trees\": geodf_tree_data,\n",
    "    \"rents\": df_zillow_data,\n",
    "}"
   ]
  },
  {
   "cell_type": "code",
   "execution_count": null,
   "id": "9d052c50-1e43-4356-bcac-4f5abc7e714b",
   "metadata": {},
   "outputs": [],
   "source": [
    "write_dataframes_to_table(tablename_to_dataframe)"
   ]
  },
  {
   "cell_type": "markdown",
   "id": "e4708cb4-d034-43b6-955b-a21d0eab74d4",
   "metadata": {},
   "source": [
    "#### Option 2: SQLAlchemy"
   ]
  },
  {
   "cell_type": "code",
   "execution_count": null,
   "id": "210ddbad-3b11-47a2-9245-935f482fa7ea",
   "metadata": {},
   "outputs": [],
   "source": [
    "Session = db.orm.sessionmaker(bind=engine)\n",
    "session = Session()"
   ]
  },
  {
   "cell_type": "code",
   "execution_count": null,
   "id": "3f2b21c6-59d9-4bae-8c33-ab4b49ff2b3a",
   "metadata": {},
   "outputs": [],
   "source": [
    "for row in geodf_tree_data.iterrows():\n",
    "    tree = Tree(...)\n",
    "    session.add(tree)"
   ]
  },
  {
   "cell_type": "code",
   "execution_count": null,
   "id": "83e4bfb9-4fbc-45fe-8a98-a760a22234f8",
   "metadata": {},
   "outputs": [],
   "source": [
    "session.commit()"
   ]
  },
  {
   "cell_type": "markdown",
   "id": "eb63b553-0c64-4da8-9fc7-41555d89d853",
   "metadata": {},
   "source": [
    "## Part 3: Understanding the Data"
   ]
  },
  {
   "cell_type": "markdown",
   "id": "7ac7e12b-e251-4f08-8dc5-601db30c2089",
   "metadata": {},
   "source": [
    "### Query 1"
   ]
  },
  {
   "cell_type": "code",
   "execution_count": null,
   "id": "d6ce8548-4aba-4bf9-992c-dedd0f249db4",
   "metadata": {},
   "outputs": [],
   "source": [
    "# Helper function to write the queries to file\n",
    "def write_query_to_file(query, outfile):\n",
    "    raise NotImplementedError()"
   ]
  },
  {
   "cell_type": "code",
   "execution_count": null,
   "id": "6605e6f3-ec42-4a8b-833c-5138c14b678b",
   "metadata": {},
   "outputs": [],
   "source": [
    "QUERY_1_FILENAME = QUERY_DIR / \"FILL_ME_IN\"\n",
    "\n",
    "QUERY_1 = \"\"\"\n",
    "FILL_ME_IN\n",
    "\"\"\""
   ]
  },
  {
   "cell_type": "code",
   "execution_count": null,
   "id": "ce044adf-ecdf-4237-9b20-b7cdaaab0c6c",
   "metadata": {},
   "outputs": [],
   "source": [
    "with engine.connect() as conn:\n",
    "    result = conn.execute(db.text(QUERY_1))\n",
    "    for row in result:\n",
    "        print(row)"
   ]
  },
  {
   "cell_type": "code",
   "execution_count": null,
   "id": "4b7b2c3d-8961-4c7e-8eb1-fc973d0ab9c1",
   "metadata": {},
   "outputs": [],
   "source": [
    "write_query_to_file(QUERY_1, QUERY_1_FILENAME)"
   ]
  },
  {
   "cell_type": "markdown",
   "id": "75223ce5-6ab5-4613-b6af-fa8e33bcc7d5",
   "metadata": {},
   "source": [
    "## Part 4: Visualizing the Data"
   ]
  },
  {
   "cell_type": "markdown",
   "id": "b21fcfed-ddbb-4908-a60e-ed7cbc6d5b00",
   "metadata": {},
   "source": [
    "### Visualization 1"
   ]
  },
  {
   "cell_type": "code",
   "execution_count": null,
   "id": "6f0e2cde-e43b-407b-ab93-ff85a2dba469",
   "metadata": {},
   "outputs": [],
   "source": [
    "# use a more descriptive name for your function\n",
    "def plot_visual_1(dataframe):\n",
    "    figure, axes = plt.subplots(figsize=(20, 10))\n",
    "    \n",
    "    values = \"...\"  # use the dataframe to pull out values needed to plot\n",
    "    \n",
    "    # you may want to use matplotlib to plot your visualizations;\n",
    "    # there are also many other plot types (other \n",
    "    # than axes.plot) you can use\n",
    "    axes.plot(values, \"...\")\n",
    "    # there are other methods to use to label your axes, to style \n",
    "    # and set up axes labels, etc\n",
    "    axes.set_title(\"Some Descriptive Title\")\n",
    "    \n",
    "    plt.show()"
   ]
  },
  {
   "cell_type": "code",
   "execution_count": null,
   "id": "ed80755f-d1e1-4e53-8ef8-f5295c59a3fe",
   "metadata": {},
   "outputs": [],
   "source": [
    "def get_data_for_visual_1():\n",
    "    # Query your database for the data needed.\n",
    "    # You can put the data queried into a pandas/geopandas dataframe, if you wish\n",
    "    raise NotImplementedError()"
   ]
  },
  {
   "cell_type": "code",
   "execution_count": null,
   "id": "f6a2632a-b516-4a6e-8b67-97116ab6fce4",
   "metadata": {},
   "outputs": [],
   "source": [
    "some_dataframe = get_data_for_visual_1()\n",
    "plot_visual_1(some_dataframe)"
   ]
  }
 ],
 "metadata": {
  "kernelspec": {
   "display_name": "Python 3 (ipykernel)",
   "language": "python",
   "name": "python3"
  },
  "language_info": {
   "codemirror_mode": {
    "name": "ipython",
    "version": 3
   },
   "file_extension": ".py",
   "mimetype": "text/x-python",
   "name": "python",
   "nbconvert_exporter": "python",
   "pygments_lexer": "ipython3",
   "version": "3.11.4"
  }
 },
 "nbformat": 4,
 "nbformat_minor": 5
}
